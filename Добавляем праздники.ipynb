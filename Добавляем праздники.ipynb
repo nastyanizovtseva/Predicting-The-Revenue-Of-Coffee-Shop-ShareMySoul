{
 "cells": [
  {
   "cell_type": "code",
   "execution_count": 125,
   "metadata": {},
   "outputs": [],
   "source": [
    "import pandas as pd\n",
    "from workalendar.europe import Russia"
   ]
  },
  {
   "cell_type": "code",
   "execution_count": 134,
   "metadata": {},
   "outputs": [],
   "source": [
    "df = pd.read_csv('data_agg_weather.csv', sep = ';', index_col=0)"
   ]
  },
  {
   "cell_type": "code",
   "execution_count": 135,
   "metadata": {},
   "outputs": [],
   "source": [
    "df = df.drop('Unnamed: 0', axis=1)"
   ]
  },
  {
   "cell_type": "code",
   "execution_count": 136,
   "metadata": {},
   "outputs": [
    {
     "data": {
      "text/html": [
       "<div>\n",
       "<style scoped>\n",
       "    .dataframe tbody tr th:only-of-type {\n",
       "        vertical-align: middle;\n",
       "    }\n",
       "\n",
       "    .dataframe tbody tr th {\n",
       "        vertical-align: top;\n",
       "    }\n",
       "\n",
       "    .dataframe thead th {\n",
       "        text-align: right;\n",
       "    }\n",
       "</style>\n",
       "<table border=\"1\" class=\"dataframe\">\n",
       "  <thead>\n",
       "    <tr style=\"text-align: right;\">\n",
       "      <th></th>\n",
       "      <th>Открыт_дата</th>\n",
       "      <th>День недели</th>\n",
       "      <th>Месяц</th>\n",
       "      <th>Год</th>\n",
       "      <th>Неделя</th>\n",
       "      <th>ЗП</th>\n",
       "      <th>Время года</th>\n",
       "      <th>Сумма по чеку, руб.</th>\n",
       "      <th>День</th>\n",
       "      <th>Средняя Температура</th>\n",
       "      <th>Снег</th>\n",
       "      <th>Дождь</th>\n",
       "    </tr>\n",
       "  </thead>\n",
       "  <tbody>\n",
       "    <tr>\n",
       "      <th>0</th>\n",
       "      <td>2022-09-01</td>\n",
       "      <td>3</td>\n",
       "      <td>9</td>\n",
       "      <td>2022</td>\n",
       "      <td>1</td>\n",
       "      <td>0</td>\n",
       "      <td>3</td>\n",
       "      <td>96630.00</td>\n",
       "      <td>1</td>\n",
       "      <td>11.4</td>\n",
       "      <td>0</td>\n",
       "      <td>0</td>\n",
       "    </tr>\n",
       "    <tr>\n",
       "      <th>1</th>\n",
       "      <td>2022-09-02</td>\n",
       "      <td>4</td>\n",
       "      <td>9</td>\n",
       "      <td>2022</td>\n",
       "      <td>1</td>\n",
       "      <td>0</td>\n",
       "      <td>3</td>\n",
       "      <td>108024.50</td>\n",
       "      <td>2</td>\n",
       "      <td>10.5</td>\n",
       "      <td>0</td>\n",
       "      <td>1</td>\n",
       "    </tr>\n",
       "    <tr>\n",
       "      <th>2</th>\n",
       "      <td>2022-09-03</td>\n",
       "      <td>5</td>\n",
       "      <td>9</td>\n",
       "      <td>2022</td>\n",
       "      <td>1</td>\n",
       "      <td>0</td>\n",
       "      <td>3</td>\n",
       "      <td>122352.00</td>\n",
       "      <td>3</td>\n",
       "      <td>12.5</td>\n",
       "      <td>0</td>\n",
       "      <td>0</td>\n",
       "    </tr>\n",
       "    <tr>\n",
       "      <th>3</th>\n",
       "      <td>2022-09-04</td>\n",
       "      <td>6</td>\n",
       "      <td>9</td>\n",
       "      <td>2022</td>\n",
       "      <td>1</td>\n",
       "      <td>0</td>\n",
       "      <td>3</td>\n",
       "      <td>119441.70</td>\n",
       "      <td>4</td>\n",
       "      <td>12.2</td>\n",
       "      <td>0</td>\n",
       "      <td>0</td>\n",
       "    </tr>\n",
       "    <tr>\n",
       "      <th>4</th>\n",
       "      <td>2022-09-05</td>\n",
       "      <td>0</td>\n",
       "      <td>9</td>\n",
       "      <td>2022</td>\n",
       "      <td>1</td>\n",
       "      <td>0</td>\n",
       "      <td>3</td>\n",
       "      <td>87863.50</td>\n",
       "      <td>5</td>\n",
       "      <td>10.3</td>\n",
       "      <td>0</td>\n",
       "      <td>0</td>\n",
       "    </tr>\n",
       "    <tr>\n",
       "      <th>...</th>\n",
       "      <td>...</td>\n",
       "      <td>...</td>\n",
       "      <td>...</td>\n",
       "      <td>...</td>\n",
       "      <td>...</td>\n",
       "      <td>...</td>\n",
       "      <td>...</td>\n",
       "      <td>...</td>\n",
       "      <td>...</td>\n",
       "      <td>...</td>\n",
       "      <td>...</td>\n",
       "      <td>...</td>\n",
       "    </tr>\n",
       "    <tr>\n",
       "      <th>415</th>\n",
       "      <td>2023-10-22</td>\n",
       "      <td>6</td>\n",
       "      <td>10</td>\n",
       "      <td>2023</td>\n",
       "      <td>4</td>\n",
       "      <td>0</td>\n",
       "      <td>3</td>\n",
       "      <td>138996.12</td>\n",
       "      <td>22</td>\n",
       "      <td>2.6</td>\n",
       "      <td>1</td>\n",
       "      <td>0</td>\n",
       "    </tr>\n",
       "    <tr>\n",
       "      <th>416</th>\n",
       "      <td>2023-10-23</td>\n",
       "      <td>0</td>\n",
       "      <td>10</td>\n",
       "      <td>2023</td>\n",
       "      <td>4</td>\n",
       "      <td>0</td>\n",
       "      <td>3</td>\n",
       "      <td>61260.00</td>\n",
       "      <td>23</td>\n",
       "      <td>4.4</td>\n",
       "      <td>0</td>\n",
       "      <td>1</td>\n",
       "    </tr>\n",
       "    <tr>\n",
       "      <th>417</th>\n",
       "      <td>2023-10-24</td>\n",
       "      <td>1</td>\n",
       "      <td>10</td>\n",
       "      <td>2023</td>\n",
       "      <td>4</td>\n",
       "      <td>0</td>\n",
       "      <td>3</td>\n",
       "      <td>70993.00</td>\n",
       "      <td>24</td>\n",
       "      <td>1.4</td>\n",
       "      <td>0</td>\n",
       "      <td>1</td>\n",
       "    </tr>\n",
       "    <tr>\n",
       "      <th>418</th>\n",
       "      <td>2023-10-25</td>\n",
       "      <td>2</td>\n",
       "      <td>10</td>\n",
       "      <td>2023</td>\n",
       "      <td>4</td>\n",
       "      <td>0</td>\n",
       "      <td>3</td>\n",
       "      <td>85317.97</td>\n",
       "      <td>25</td>\n",
       "      <td>-0.3</td>\n",
       "      <td>0</td>\n",
       "      <td>0</td>\n",
       "    </tr>\n",
       "    <tr>\n",
       "      <th>419</th>\n",
       "      <td>2023-10-26</td>\n",
       "      <td>3</td>\n",
       "      <td>10</td>\n",
       "      <td>2023</td>\n",
       "      <td>4</td>\n",
       "      <td>0</td>\n",
       "      <td>3</td>\n",
       "      <td>78812.50</td>\n",
       "      <td>26</td>\n",
       "      <td>-0.8</td>\n",
       "      <td>1</td>\n",
       "      <td>0</td>\n",
       "    </tr>\n",
       "  </tbody>\n",
       "</table>\n",
       "<p>420 rows × 12 columns</p>\n",
       "</div>"
      ],
      "text/plain": [
       "    Открыт_дата  День недели  Месяц   Год  Неделя  ЗП  Время года  \\\n",
       "0    2022-09-01            3      9  2022       1   0           3   \n",
       "1    2022-09-02            4      9  2022       1   0           3   \n",
       "2    2022-09-03            5      9  2022       1   0           3   \n",
       "3    2022-09-04            6      9  2022       1   0           3   \n",
       "4    2022-09-05            0      9  2022       1   0           3   \n",
       "..          ...          ...    ...   ...     ...  ..         ...   \n",
       "415  2023-10-22            6     10  2023       4   0           3   \n",
       "416  2023-10-23            0     10  2023       4   0           3   \n",
       "417  2023-10-24            1     10  2023       4   0           3   \n",
       "418  2023-10-25            2     10  2023       4   0           3   \n",
       "419  2023-10-26            3     10  2023       4   0           3   \n",
       "\n",
       "     Сумма по чеку, руб.  День  Средняя Температура  Снег  Дождь  \n",
       "0               96630.00     1                 11.4     0      0  \n",
       "1              108024.50     2                 10.5     0      1  \n",
       "2              122352.00     3                 12.5     0      0  \n",
       "3              119441.70     4                 12.2     0      0  \n",
       "4               87863.50     5                 10.3     0      0  \n",
       "..                   ...   ...                  ...   ...    ...  \n",
       "415            138996.12    22                  2.6     1      0  \n",
       "416             61260.00    23                  4.4     0      1  \n",
       "417             70993.00    24                  1.4     0      1  \n",
       "418             85317.97    25                 -0.3     0      0  \n",
       "419             78812.50    26                 -0.8     1      0  \n",
       "\n",
       "[420 rows x 12 columns]"
      ]
     },
     "execution_count": 136,
     "metadata": {},
     "output_type": "execute_result"
    }
   ],
   "source": [
    "df"
   ]
  },
  {
   "cell_type": "code",
   "execution_count": 128,
   "metadata": {},
   "outputs": [],
   "source": [
    "cal = Russia()"
   ]
  },
  {
   "cell_type": "code",
   "execution_count": 129,
   "metadata": {},
   "outputs": [
    {
     "data": {
      "text/plain": [
       "[(datetime.date(2023, 1, 1), 'New year'),\n",
       " (datetime.date(2023, 1, 2), 'Day After New Year'),\n",
       " (datetime.date(2023, 1, 3), 'Third Day after New Year'),\n",
       " (datetime.date(2023, 1, 4), 'Fourth Day after New Year'),\n",
       " (datetime.date(2023, 1, 5), 'Fifth Day after New Year'),\n",
       " (datetime.date(2023, 1, 6), 'Sixth Day after New Year'),\n",
       " (datetime.date(2023, 1, 7), 'Christmas'),\n",
       " (datetime.date(2023, 1, 8), 'Eighth Day after New Year'),\n",
       " (datetime.date(2023, 2, 23), 'Defendence of the Fatherland'),\n",
       " (datetime.date(2023, 3, 8), \"International Women's Day\"),\n",
       " (datetime.date(2023, 5, 1), 'The Day of Spring and Labour'),\n",
       " (datetime.date(2023, 5, 9), 'Victory Day'),\n",
       " (datetime.date(2023, 6, 12), 'National Day'),\n",
       " (datetime.date(2023, 11, 4), 'Day of Unity'),\n",
       " (datetime.date(2023, 11, 6), 'Day of Unity shift')]"
      ]
     },
     "execution_count": 129,
     "metadata": {},
     "output_type": "execute_result"
    }
   ],
   "source": [
    "cal.holidays(2023)"
   ]
  },
  {
   "cell_type": "code",
   "execution_count": 107,
   "metadata": {},
   "outputs": [],
   "source": [
    "df['Праздник_вых'] = df['Открыт_дата'].apply(lambda x: cal.is_holiday(pd.to_datetime(x)))"
   ]
  },
  {
   "cell_type": "markdown",
   "metadata": {},
   "source": [
    "День студента"
   ]
  },
  {
   "cell_type": "code",
   "execution_count": 108,
   "metadata": {},
   "outputs": [],
   "source": [
    "df['Праздник_раб'] = df['Открыт_дата'].apply(lambda x: 1 \n",
    "                                             if pd.to_datetime(x).month == 1  and pd.to_datetime(x).day == 25\n",
    "                                            else 0)"
   ]
  },
  {
   "cell_type": "markdown",
   "metadata": {},
   "source": [
    "День всех влюбленных"
   ]
  },
  {
   "cell_type": "code",
   "execution_count": 109,
   "metadata": {},
   "outputs": [],
   "source": [
    "df['Праздник_раб'] = df['Открыт_дата'].apply(lambda x: 1 \n",
    "                                             if pd.to_datetime(x).month == 2  and pd.to_datetime(x).day == 14\n",
    "                                            else 0)"
   ]
  },
  {
   "cell_type": "markdown",
   "metadata": {},
   "source": [
    "День знаний"
   ]
  },
  {
   "cell_type": "code",
   "execution_count": 110,
   "metadata": {},
   "outputs": [],
   "source": [
    "df['Праздник_раб'] = df['Открыт_дата'].apply(lambda x: 1 \n",
    "                                             if pd.to_datetime(x).month == 9  and pd.to_datetime(x).day == 1\n",
    "                                            else 0)"
   ]
  },
  {
   "cell_type": "markdown",
   "metadata": {},
   "source": [
    "День учителя"
   ]
  },
  {
   "cell_type": "code",
   "execution_count": 111,
   "metadata": {},
   "outputs": [],
   "source": [
    "df['Праздник_раб'] = df['Открыт_дата'].apply(lambda x: 1 \n",
    "                                             if pd.to_datetime(x).month == 10  and pd.to_datetime(x).day == 5\n",
    "                                            else 0)"
   ]
  },
  {
   "cell_type": "markdown",
   "metadata": {},
   "source": [
    "Пасха"
   ]
  },
  {
   "cell_type": "code",
   "execution_count": 112,
   "metadata": {},
   "outputs": [],
   "source": [
    "def easter_date(god):\n",
    "    a = god % 19\n",
    "    b = god % 4\n",
    "    c = god % 7\n",
    "    d = (19 * a + 15) % 30\n",
    "    e = (2 * b + 4 * c + 6 * d + 6) % 7\n",
    "    f = d + e\n",
    "    if f <= 26:\n",
    "        rez = str(f + 4) + '.04'\n",
    "    else:\n",
    "        rez = str(f - 26) + '.05'\n",
    "    return rez + '-' + str(god)"
   ]
  },
  {
   "cell_type": "code",
   "execution_count": 113,
   "metadata": {},
   "outputs": [],
   "source": [
    "df['Праздник_раб'] = df['Открыт_дата'].apply(lambda x: 1 \n",
    "                                             if easter_date(pd.to_datetime(x).year) == \n",
    "                                             (str(pd.to_datetime(x).month) + '-' + str(pd.to_datetime(x).day))\n",
    "                                            else 0)"
   ]
  },
  {
   "cell_type": "code",
   "execution_count": 114,
   "metadata": {},
   "outputs": [],
   "source": [
    "df['Праздники'] = df['Праздник_вых'].astype(int) + df['Праздник_раб']"
   ]
  },
  {
   "cell_type": "code",
   "execution_count": 115,
   "metadata": {},
   "outputs": [],
   "source": [
    "df['Предпраздничный'] = df['Праздники'].shift(-1)\n",
    "mask = df['Предпраздничный'] == df['Праздники']\n",
    "\n",
    "# Проставляем ноль во второй колонке там, где значения не равны\n",
    "df.loc[mask, 'Предпраздничный'] = 0\n",
    "\n",
    "# Заменяем NaN в последней строке значением False\n",
    "df.at[df.index[-1], 'Предпраздничный'] = 0"
   ]
  },
  {
   "cell_type": "code",
   "execution_count": 118,
   "metadata": {},
   "outputs": [],
   "source": [
    "df.to_csv('data_agg_final.csv', index=False)"
   ]
  },
  {
   "cell_type": "code",
   "execution_count": null,
   "metadata": {},
   "outputs": [],
   "source": []
  }
 ],
 "metadata": {
  "kernelspec": {
   "display_name": "Python 3",
   "language": "python",
   "name": "python3"
  },
  "language_info": {
   "codemirror_mode": {
    "name": "ipython",
    "version": 3
   },
   "file_extension": ".py",
   "mimetype": "text/x-python",
   "name": "python",
   "nbconvert_exporter": "python",
   "pygments_lexer": "ipython3",
   "version": "3.8.2"
  }
 },
 "nbformat": 4,
 "nbformat_minor": 4
}
